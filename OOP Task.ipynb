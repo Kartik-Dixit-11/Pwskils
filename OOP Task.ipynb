{
 "cells": [
  {
   "cell_type": "markdown",
   "id": "45a69e3b-5656-4d85-a702-83f142cc5f24",
   "metadata": {},
   "source": [
    "### Q1. Explain Class and Object with respect to Object-Oriented Programming. Give a suitable example."
   ]
  },
  {
   "cell_type": "raw",
   "id": "3255c4b8-498d-4d04-a274-5a4d8f2efbf4",
   "metadata": {},
   "source": [
    "Object Oriented Programming (OOP) is the morden programming paradigm which provides a way to programme softwares securely and efficiently.\n",
    "\n",
    "Class : A Class can be consider as User Defined Data Type or It is like structured representation of various attributes and realtionship between \n",
    "        them in the form of Defined methods(Funcations). It is like a strongly defined blue print of real world entities.\n",
    "\n",
    "Object: Object can be consider as instance of a class. Object represents the real world objects which follows the structure of \n",
    "        their defined  class with their own properties(values) of class attributes and uses class methods to perform different computational\n",
    "        tasks.Every class can have multiple objects but objects can be associated with particular class only from which they are derived."
   ]
  },
  {
   "cell_type": "markdown",
   "id": "65371ea2-b8eb-4bf7-bae2-57bbed81e992",
   "metadata": {},
   "source": [
    "### Q2. Name the four pillars of OOPs."
   ]
  },
  {
   "cell_type": "raw",
   "id": "00fc53b0-0dc3-438b-8c59-93ad66952449",
   "metadata": {},
   "source": [
    "Four Pillars of OOP:\n",
    "- Inheritance \n",
    "- Polymorphism\n",
    "- Encapsulation\n",
    "- Abstraction"
   ]
  },
  {
   "cell_type": "markdown",
   "id": "3a2d1747-b0e5-4ab5-af28-c0577ea11e18",
   "metadata": {},
   "source": [
    "### Q3. Explain why the __init__() function is used. Give a suitable example."
   ]
  },
  {
   "cell_type": "raw",
   "id": "f9f54928-dc63-4d82-b447-ae22adfd7f86",
   "metadata": {},
   "source": [
    "__init__() is the constructor method for python class. It gets invoked as soon as object is created/Defined i.e \n",
    "it dosen't require explicit call by refrencing to object."
   ]
  },
  {
   "cell_type": "code",
   "execution_count": 9,
   "id": "6e96ddba-86a6-41c8-8a68-5ee6ad5fb897",
   "metadata": {},
   "outputs": [
    {
     "name": "stdout",
     "output_type": "stream",
     "text": [
      "constructor is Invoked by implicit call\n"
     ]
    }
   ],
   "source": [
    "##Ex\n",
    "class Example:\n",
    "    def __init__(self):\n",
    "        print(\"constructor is Invoked by implicit call\")\n",
    "    def call(self):\n",
    "        print(\"Explicit Calling\")\n",
    "\n",
    "obj=Example()"
   ]
  },
  {
   "cell_type": "code",
   "execution_count": 10,
   "id": "ce487c71-2d6f-41a4-9cbf-90a773a2e32a",
   "metadata": {},
   "outputs": [
    {
     "name": "stdout",
     "output_type": "stream",
     "text": [
      "Explicit Calling\n"
     ]
    }
   ],
   "source": [
    "obj.call()"
   ]
  },
  {
   "cell_type": "markdown",
   "id": "f2e0c842-c7d9-4cc1-b407-4ddb26e21e24",
   "metadata": {},
   "source": [
    "### Q4.Why self is used in OOPs?"
   ]
  },
  {
   "cell_type": "raw",
   "id": "cadafac2-8166-4d1d-88a4-4a2238178231",
   "metadata": {},
   "source": [
    "In most of the traditional C based programming languages having the support of object oriented programming 'this' keyword is used to refernce \n",
    "objects similary we have 'self' keyword for object refrencing in python programming language. Object refrencing is important when we are \n",
    "dealing with multiple object of same class as it provides isolation within properties of mulitple objects."
   ]
  },
  {
   "cell_type": "markdown",
   "id": "5f113b4d-dd50-4959-90e2-4d8752bdd6c4",
   "metadata": {},
   "source": [
    "### Q5. What is inheritance? Give an example for each type of inheritance."
   ]
  },
  {
   "cell_type": "raw",
   "id": "a2dba66b-fe28-49bf-94f7-3bc845480aba",
   "metadata": {},
   "source": [
    "Inheritance is term associated in biology which desvribes the transfer of genetic materials from parent generation to their childrens.\n",
    "Similarly in Object Oriented Programming we can provision the sharing of properties, attributes, methods etc of one class to other class with\n",
    "its own properties."
   ]
  },
  {
   "cell_type": "markdown",
   "id": "17966c5e-19e2-40d4-a9d6-5e7265d9b171",
   "metadata": {},
   "source": [
    "### Types of Inheritance"
   ]
  },
  {
   "cell_type": "raw",
   "id": "740430d5-ed31-4d4d-a1c0-fa3e78823945",
   "metadata": {},
   "source": [
    "1) Hierarchical Inheritance \n",
    "Architecture : https://static.javatpoint.com/cpp/images/hierarchical-inheritance-in-cpp2.png"
   ]
  },
  {
   "cell_type": "code",
   "execution_count": 16,
   "id": "73d95711-da64-4620-b3d1-2f106acefba9",
   "metadata": {},
   "outputs": [
    {
     "name": "stdout",
     "output_type": "stream",
     "text": [
      "Parent class method\n"
     ]
    }
   ],
   "source": [
    "#### Ex\n",
    "\n",
    "class A:\n",
    "    def data(self):\n",
    "        print(\"Parent class method\")\n",
    "        \n",
    "    \n",
    "class B(A):\n",
    "    def __init__(self):\n",
    "        self.b=12\n",
    "\n",
    "class C(A):\n",
    "    def __init__(self):\n",
    "        self.c=13\n",
    "\n",
    "obj=C()\n",
    "obj.data()"
   ]
  },
  {
   "cell_type": "raw",
   "id": "1c127dd2-c07b-4840-b316-e4382681c3d8",
   "metadata": {},
   "source": [
    "2) Multiple Inheritance\n",
    "Architecture : https://scaler.com/topics/images/multiple-inheritence.webp"
   ]
  },
  {
   "cell_type": "code",
   "execution_count": 21,
   "id": "0ab0fe61-bc24-460a-91f7-8fb4731da652",
   "metadata": {},
   "outputs": [],
   "source": [
    "class A:\n",
    "    def parentA(self):\n",
    "        print(\"Method of Parent Class A\")\n",
    "\n",
    "class B:\n",
    "    def parentB(self):\n",
    "        print(\"Method of Parent Class B\")\n",
    "        \n",
    "class C(A,B):\n",
    "    def __init__(self):\n",
    "        pass\n",
    "\n",
    "obj=C()"
   ]
  },
  {
   "cell_type": "code",
   "execution_count": 22,
   "id": "2b46eea8-1fc2-40de-b4f9-e66a26084ec9",
   "metadata": {},
   "outputs": [
    {
     "name": "stdout",
     "output_type": "stream",
     "text": [
      "Method of Parent Class A\n"
     ]
    }
   ],
   "source": [
    "obj.parentA()"
   ]
  },
  {
   "cell_type": "code",
   "execution_count": 23,
   "id": "eeceb82d-df2e-43db-a998-c23a38b8efec",
   "metadata": {},
   "outputs": [
    {
     "name": "stdout",
     "output_type": "stream",
     "text": [
      "Method of Parent Class B\n"
     ]
    }
   ],
   "source": [
    "obj.parentB()"
   ]
  },
  {
   "cell_type": "raw",
   "id": "243dfafc-a5a6-4996-b285-be426dfda6c4",
   "metadata": {},
   "source": [
    "3) Multilevel"
   ]
  },
  {
   "cell_type": "code",
   "execution_count": 25,
   "id": "da108966-3e50-4fca-bf44-d38f30b3d1de",
   "metadata": {},
   "outputs": [
    {
     "name": "stdout",
     "output_type": "stream",
     "text": [
      "Parent A\n"
     ]
    }
   ],
   "source": [
    "##Ex\n",
    "\n",
    "class A:\n",
    "    def ParentA(self):\n",
    "        print(\"Parent A\")\n",
    "\n",
    "class B(A):\n",
    "    def ParentB(self):\n",
    "        print(\"Parent B\")\n",
    "\n",
    "class C(B):\n",
    "    def ChildC(self):\n",
    "        print(\"child C\")\n",
    "\n",
    "obj1=B()\n",
    "obj1.ParentA()"
   ]
  },
  {
   "cell_type": "code",
   "execution_count": 26,
   "id": "672c1428-7b5d-45dc-bd60-616919647a3b",
   "metadata": {},
   "outputs": [
    {
     "name": "stdout",
     "output_type": "stream",
     "text": [
      "Parent B\n"
     ]
    }
   ],
   "source": [
    "obj2=C()\n",
    "obj2.ParentB()"
   ]
  }
 ],
 "metadata": {
  "kernelspec": {
   "display_name": "Python 3 (ipykernel)",
   "language": "python",
   "name": "python3"
  },
  "language_info": {
   "codemirror_mode": {
    "name": "ipython",
    "version": 3
   },
   "file_extension": ".py",
   "mimetype": "text/x-python",
   "name": "python",
   "nbconvert_exporter": "python",
   "pygments_lexer": "ipython3",
   "version": "3.11.4"
  }
 },
 "nbformat": 4,
 "nbformat_minor": 5
}
